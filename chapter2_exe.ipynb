{
  "nbformat": 4,
  "nbformat_minor": 0,
  "metadata": {
    "colab": {
      "provenance": [],
      "authorship_tag": "ABX9TyPdE7MM5Qd2uzomFaSKhw1Z",
      "include_colab_link": true
    },
    "kernelspec": {
      "name": "python3",
      "display_name": "Python 3"
    },
    "language_info": {
      "name": "python"
    }
  },
  "cells": [
    {
      "cell_type": "markdown",
      "metadata": {
        "id": "view-in-github",
        "colab_type": "text"
      },
      "source": [
        "<a href=\"https://colab.research.google.com/github/poopcatt/22_05_pythonCh2/blob/main/chapter2_exe.ipynb\" target=\"_parent\"><img src=\"https://colab.research.google.com/assets/colab-badge.svg\" alt=\"Open In Colab\"/></a>"
      ]
    },
    {
      "cell_type": "markdown",
      "source": [
        "(1) 사용자한테 이름과 나이를 입력하게 한다. 사용자가 100살이 되는 연도를 화면에 출력하는 프로그램을 작성하라."
      ],
      "metadata": {
        "id": "TGTqGv1MPi7X"
      }
    },
    {
      "cell_type": "code",
      "execution_count": 3,
      "metadata": {
        "colab": {
          "base_uri": "https://localhost:8080/"
        },
        "id": "2NuasL-CKern",
        "outputId": "7433663c-082f-42c8-b88f-90fdc8e8d29d"
      },
      "outputs": [
        {
          "output_type": "stream",
          "name": "stdout",
          "text": [
            "이름을 입력하시오.조서현\n",
            "나이를 입력하시오.20\n",
            "조서현씨는2102년에 100살입니다.\n"
          ]
        }
      ],
      "source": [
        "name = input(\"이름을 입력하시오.\")     #변수 name에 input함수를 사용하여 사용자에게 이름을 입력받음\n",
        "age =int(input(\"나이를 입력하시오.\"))  #변수 age에 int(정수형선언)함수로 사용자에게 나이를 입력받음\n",
        "year = 2022 -age + 100                 #변수 year에 현재 연도 - 변수(age)+100\n",
        "print(name + \"씨는\" + str(year) + \"년에 100살입니다.\")"
      ]
    },
    {
      "cell_type": "markdown",
      "source": [
        "(2) 사용자로부터 3개의 값을 받아서 평균을 내어보라아. 입력예제값: 10,20,30\n"
      ],
      "metadata": {
        "id": "wNU-EhMjUGTB"
      }
    },
    {
      "cell_type": "code",
      "source": [
        "n1 = int(input(\"첫 번째 수를 입력하시오:\"))\n",
        "n2 = int(input(\"첫 번째 수를 입력하시오:\"))\n",
        "n3 = int(input(\"첫 번째 수를 입력하시오:\"))\n",
        "avg = (n1 + n2 + n3) / 3\n",
        "sum = n1 + n2 + n3\n",
        "print(n1, n2, n3, \"의 합은\", str(sum) + \"이고\", \"의 평균은\", avg, \"입니다.\")"
      ],
      "metadata": {
        "colab": {
          "base_uri": "https://localhost:8080/"
        },
        "id": "2ohyQGJkTWT8",
        "outputId": "3a7099f0-fabc-49c0-ab12-e9ff6e5404ad"
      },
      "execution_count": 10,
      "outputs": [
        {
          "output_type": "stream",
          "name": "stdout",
          "text": [
            "첫 번째 수를 입력하시오:10\n",
            "첫 번째 수를 입력하시오:20\n",
            "첫 번째 수를 입력하시오:30\n",
            "10 20 30 의 합은 60이고 의 평균은 20.0 입니다.\n"
          ]
        }
      ]
    },
    {
      "cell_type": "markdown",
      "source": [
        "(3) 사용자로부터 반지름을 입력받아서 면적을 구하시오."
      ],
      "metadata": {
        "id": "5rmUGZjNV1us"
      }
    },
    {
      "cell_type": "code",
      "source": [
        "rad = int(input(\"반지름을 입력하시오:\"))\n",
        "area = 3.141592 * rad * rad\n",
        "print(\"반지름이\",rad,\"인 원의 넓이는\" , area, \"입니다.\" )"
      ],
      "metadata": {
        "colab": {
          "base_uri": "https://localhost:8080/"
        },
        "id": "zQ7Lk_IvVzqd",
        "outputId": "a3115ad6-389b-4c7c-cdd7-6b5e40c6b5de"
      },
      "execution_count": 16,
      "outputs": [
        {
          "output_type": "stream",
          "name": "stdout",
          "text": [
            "반지름을 입력하시오:10\n",
            "반지름이 10 인 원의 넓이는 314.1592 입니다.\n"
          ]
        }
      ]
    }
  ]
}